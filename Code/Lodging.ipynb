{
 "cells": [
  {
   "cell_type": "code",
   "execution_count": 1,
   "metadata": {},
   "outputs": [],
   "source": [
    "%matplotlib inline\n",
    "import numpy as np\n",
    "import pandas as pd\n",
    "from scipy.stats import norm\n",
    "import statsmodels.api as sm\n",
    "import matplotlib.pyplot as plt\n",
    "from matplotlib.pyplot import figure\n",
    "from datetime import datetime\n",
    "import requests\n",
    "from io import BytesIO\n",
    "from statsmodels.graphics.tsaplots import plot_acf, plot_pacf\n",
    "from statsmodels.tsa.statespace.sarimax import SARIMAX\n",
    "from sklearn.preprocessing import MinMaxScaler\n",
    "\n",
    "df = pd.read_csv('consump_l_daily_agg.csv')\n",
    "df['Date_Time'] = pd.to_datetime(df['Date_Time'])\n",
    "df.Electricity_KW_AVG = np.log(df.Electricity_KW_AVG)\n",
    "df.rename(columns={'Electricity_KW_AVG':'Electricity_Log'}, inplace=True)"
   ]
  },
  {
   "cell_type": "code",
   "execution_count": 2,
   "metadata": {},
   "outputs": [
    {
     "data": {
      "text/html": [
       "<div>\n",
       "<style scoped>\n",
       "    .dataframe tbody tr th:only-of-type {\n",
       "        vertical-align: middle;\n",
       "    }\n",
       "\n",
       "    .dataframe tbody tr th {\n",
       "        vertical-align: top;\n",
       "    }\n",
       "\n",
       "    .dataframe thead th {\n",
       "        text-align: right;\n",
       "    }\n",
       "</style>\n",
       "<table border=\"1\" class=\"dataframe\">\n",
       "  <thead>\n",
       "    <tr style=\"text-align: right;\">\n",
       "      <th></th>\n",
       "      <th>Date_Time</th>\n",
       "      <th>Electricity_Log</th>\n",
       "      <th>School_Day</th>\n",
       "      <th>Solar_Elevation_AVG</th>\n",
       "      <th>Cloud_Cover_Fraction_AVG</th>\n",
       "      <th>Dew_Point_AVG</th>\n",
       "      <th>Precipitable_Water_AVG</th>\n",
       "      <th>Temperature_AVG</th>\n",
       "      <th>Visibility_AVG</th>\n",
       "      <th>Month_1</th>\n",
       "      <th>...</th>\n",
       "      <th>Day_10</th>\n",
       "      <th>Day_14</th>\n",
       "      <th>Day_15</th>\n",
       "      <th>Day_20</th>\n",
       "      <th>Day_21</th>\n",
       "      <th>Day_23</th>\n",
       "      <th>Day_24</th>\n",
       "      <th>Day_of_week_1</th>\n",
       "      <th>Day_of_week_5</th>\n",
       "      <th>Season_Autumn</th>\n",
       "    </tr>\n",
       "  </thead>\n",
       "  <tbody>\n",
       "    <tr>\n",
       "      <th>0</th>\n",
       "      <td>1991-01-01</td>\n",
       "      <td>7.358734</td>\n",
       "      <td>0</td>\n",
       "      <td>-18.476732</td>\n",
       "      <td>0.950000</td>\n",
       "      <td>-12.883333</td>\n",
       "      <td>5.208333</td>\n",
       "      <td>-9.441667</td>\n",
       "      <td>8.470833</td>\n",
       "      <td>1</td>\n",
       "      <td>...</td>\n",
       "      <td>0</td>\n",
       "      <td>0</td>\n",
       "      <td>0</td>\n",
       "      <td>0</td>\n",
       "      <td>0</td>\n",
       "      <td>0</td>\n",
       "      <td>0</td>\n",
       "      <td>1</td>\n",
       "      <td>0</td>\n",
       "      <td>0</td>\n",
       "    </tr>\n",
       "    <tr>\n",
       "      <th>1</th>\n",
       "      <td>1991-01-02</td>\n",
       "      <td>7.330407</td>\n",
       "      <td>0</td>\n",
       "      <td>-18.411217</td>\n",
       "      <td>0.458333</td>\n",
       "      <td>-14.670833</td>\n",
       "      <td>4.833333</td>\n",
       "      <td>-9.570833</td>\n",
       "      <td>16.100000</td>\n",
       "      <td>1</td>\n",
       "      <td>...</td>\n",
       "      <td>0</td>\n",
       "      <td>0</td>\n",
       "      <td>0</td>\n",
       "      <td>0</td>\n",
       "      <td>0</td>\n",
       "      <td>0</td>\n",
       "      <td>0</td>\n",
       "      <td>0</td>\n",
       "      <td>0</td>\n",
       "      <td>0</td>\n",
       "    </tr>\n",
       "  </tbody>\n",
       "</table>\n",
       "<p>2 rows × 31 columns</p>\n",
       "</div>"
      ],
      "text/plain": [
       "   Date_Time  Electricity_Log  School_Day  Solar_Elevation_AVG  \\\n",
       "0 1991-01-01         7.358734           0           -18.476732   \n",
       "1 1991-01-02         7.330407           0           -18.411217   \n",
       "\n",
       "   Cloud_Cover_Fraction_AVG  Dew_Point_AVG  Precipitable_Water_AVG  \\\n",
       "0                  0.950000     -12.883333                5.208333   \n",
       "1                  0.458333     -14.670833                4.833333   \n",
       "\n",
       "   Temperature_AVG  Visibility_AVG  Month_1  ...  Day_10  Day_14  Day_15  \\\n",
       "0        -9.441667        8.470833        1  ...       0       0       0   \n",
       "1        -9.570833       16.100000        1  ...       0       0       0   \n",
       "\n",
       "   Day_20  Day_21  Day_23  Day_24  Day_of_week_1  Day_of_week_5  Season_Autumn  \n",
       "0       0       0       0       0              1              0              0  \n",
       "1       0       0       0       0              0              0              0  \n",
       "\n",
       "[2 rows x 31 columns]"
      ]
     },
     "execution_count": 2,
     "metadata": {},
     "output_type": "execute_result"
    }
   ],
   "source": [
    "df.head(2)"
   ]
  },
  {
   "cell_type": "code",
   "execution_count": 3,
   "metadata": {},
   "outputs": [
    {
     "data": {
      "text/html": [
       "<div>\n",
       "<style scoped>\n",
       "    .dataframe tbody tr th:only-of-type {\n",
       "        vertical-align: middle;\n",
       "    }\n",
       "\n",
       "    .dataframe tbody tr th {\n",
       "        vertical-align: top;\n",
       "    }\n",
       "\n",
       "    .dataframe thead th {\n",
       "        text-align: right;\n",
       "    }\n",
       "</style>\n",
       "<table border=\"1\" class=\"dataframe\">\n",
       "  <thead>\n",
       "    <tr style=\"text-align: right;\">\n",
       "      <th></th>\n",
       "      <th>School_Day</th>\n",
       "      <th>Solar_Elevation_AVG</th>\n",
       "      <th>Cloud_Cover_Fraction_AVG</th>\n",
       "      <th>Dew_Point_AVG</th>\n",
       "      <th>Precipitable_Water_AVG</th>\n",
       "      <th>Temperature_AVG</th>\n",
       "      <th>Visibility_AVG</th>\n",
       "      <th>Month_1</th>\n",
       "      <th>Month_3</th>\n",
       "      <th>Month_4</th>\n",
       "      <th>...</th>\n",
       "      <th>Day_10</th>\n",
       "      <th>Day_14</th>\n",
       "      <th>Day_15</th>\n",
       "      <th>Day_20</th>\n",
       "      <th>Day_21</th>\n",
       "      <th>Day_23</th>\n",
       "      <th>Day_24</th>\n",
       "      <th>Day_of_week_1</th>\n",
       "      <th>Day_of_week_5</th>\n",
       "      <th>Season_Autumn</th>\n",
       "    </tr>\n",
       "  </thead>\n",
       "  <tbody>\n",
       "    <tr>\n",
       "      <th>0</th>\n",
       "      <td>0</td>\n",
       "      <td>-18.476732</td>\n",
       "      <td>0.950000</td>\n",
       "      <td>-12.883333</td>\n",
       "      <td>5.208333</td>\n",
       "      <td>-9.441667</td>\n",
       "      <td>8.470833</td>\n",
       "      <td>1</td>\n",
       "      <td>0</td>\n",
       "      <td>0</td>\n",
       "      <td>...</td>\n",
       "      <td>0</td>\n",
       "      <td>0</td>\n",
       "      <td>0</td>\n",
       "      <td>0</td>\n",
       "      <td>0</td>\n",
       "      <td>0</td>\n",
       "      <td>0</td>\n",
       "      <td>1</td>\n",
       "      <td>0</td>\n",
       "      <td>0</td>\n",
       "    </tr>\n",
       "    <tr>\n",
       "      <th>1</th>\n",
       "      <td>0</td>\n",
       "      <td>-18.411217</td>\n",
       "      <td>0.458333</td>\n",
       "      <td>-14.670833</td>\n",
       "      <td>4.833333</td>\n",
       "      <td>-9.570833</td>\n",
       "      <td>16.100000</td>\n",
       "      <td>1</td>\n",
       "      <td>0</td>\n",
       "      <td>0</td>\n",
       "      <td>...</td>\n",
       "      <td>0</td>\n",
       "      <td>0</td>\n",
       "      <td>0</td>\n",
       "      <td>0</td>\n",
       "      <td>0</td>\n",
       "      <td>0</td>\n",
       "      <td>0</td>\n",
       "      <td>0</td>\n",
       "      <td>0</td>\n",
       "      <td>0</td>\n",
       "    </tr>\n",
       "    <tr>\n",
       "      <th>2</th>\n",
       "      <td>0</td>\n",
       "      <td>-18.339779</td>\n",
       "      <td>0.583333</td>\n",
       "      <td>-11.320833</td>\n",
       "      <td>5.583333</td>\n",
       "      <td>-4.670833</td>\n",
       "      <td>16.100000</td>\n",
       "      <td>1</td>\n",
       "      <td>0</td>\n",
       "      <td>0</td>\n",
       "      <td>...</td>\n",
       "      <td>0</td>\n",
       "      <td>0</td>\n",
       "      <td>0</td>\n",
       "      <td>0</td>\n",
       "      <td>0</td>\n",
       "      <td>0</td>\n",
       "      <td>0</td>\n",
       "      <td>0</td>\n",
       "      <td>0</td>\n",
       "      <td>0</td>\n",
       "    </tr>\n",
       "    <tr>\n",
       "      <th>3</th>\n",
       "      <td>0</td>\n",
       "      <td>-18.262442</td>\n",
       "      <td>0.862500</td>\n",
       "      <td>-13.825000</td>\n",
       "      <td>5.083333</td>\n",
       "      <td>-10.016667</td>\n",
       "      <td>8.725000</td>\n",
       "      <td>1</td>\n",
       "      <td>0</td>\n",
       "      <td>0</td>\n",
       "      <td>...</td>\n",
       "      <td>0</td>\n",
       "      <td>0</td>\n",
       "      <td>0</td>\n",
       "      <td>0</td>\n",
       "      <td>0</td>\n",
       "      <td>0</td>\n",
       "      <td>0</td>\n",
       "      <td>0</td>\n",
       "      <td>0</td>\n",
       "      <td>0</td>\n",
       "    </tr>\n",
       "    <tr>\n",
       "      <th>4</th>\n",
       "      <td>0</td>\n",
       "      <td>-18.179237</td>\n",
       "      <td>0.554167</td>\n",
       "      <td>-20.070833</td>\n",
       "      <td>3.833333</td>\n",
       "      <td>-16.716667</td>\n",
       "      <td>10.675000</td>\n",
       "      <td>1</td>\n",
       "      <td>0</td>\n",
       "      <td>0</td>\n",
       "      <td>...</td>\n",
       "      <td>0</td>\n",
       "      <td>0</td>\n",
       "      <td>0</td>\n",
       "      <td>0</td>\n",
       "      <td>0</td>\n",
       "      <td>0</td>\n",
       "      <td>0</td>\n",
       "      <td>0</td>\n",
       "      <td>1</td>\n",
       "      <td>0</td>\n",
       "    </tr>\n",
       "  </tbody>\n",
       "</table>\n",
       "<p>5 rows × 29 columns</p>\n",
       "</div>"
      ],
      "text/plain": [
       "   School_Day  Solar_Elevation_AVG  Cloud_Cover_Fraction_AVG  Dew_Point_AVG  \\\n",
       "0           0           -18.476732                  0.950000     -12.883333   \n",
       "1           0           -18.411217                  0.458333     -14.670833   \n",
       "2           0           -18.339779                  0.583333     -11.320833   \n",
       "3           0           -18.262442                  0.862500     -13.825000   \n",
       "4           0           -18.179237                  0.554167     -20.070833   \n",
       "\n",
       "   Precipitable_Water_AVG  Temperature_AVG  Visibility_AVG  Month_1  Month_3  \\\n",
       "0                5.208333        -9.441667        8.470833        1        0   \n",
       "1                4.833333        -9.570833       16.100000        1        0   \n",
       "2                5.583333        -4.670833       16.100000        1        0   \n",
       "3                5.083333       -10.016667        8.725000        1        0   \n",
       "4                3.833333       -16.716667       10.675000        1        0   \n",
       "\n",
       "   Month_4  ...  Day_10  Day_14  Day_15  Day_20  Day_21  Day_23  Day_24  \\\n",
       "0        0  ...       0       0       0       0       0       0       0   \n",
       "1        0  ...       0       0       0       0       0       0       0   \n",
       "2        0  ...       0       0       0       0       0       0       0   \n",
       "3        0  ...       0       0       0       0       0       0       0   \n",
       "4        0  ...       0       0       0       0       0       0       0   \n",
       "\n",
       "   Day_of_week_1  Day_of_week_5  Season_Autumn  \n",
       "0              1              0              0  \n",
       "1              0              0              0  \n",
       "2              0              0              0  \n",
       "3              0              0              0  \n",
       "4              0              1              0  \n",
       "\n",
       "[5 rows x 29 columns]"
      ]
     },
     "execution_count": 3,
     "metadata": {},
     "output_type": "execute_result"
    }
   ],
   "source": [
    "time = df[['Date_Time', 'Electricity_Log']]\n",
    "del df['Date_Time']\n",
    "del df['Electricity_Log']\n",
    "df.head()"
   ]
  },
  {
   "cell_type": "code",
   "execution_count": 4,
   "metadata": {},
   "outputs": [
    {
     "name": "stderr",
     "output_type": "stream",
     "text": [
      "C:\\Users\\sajor\\Anaconda3\\lib\\site-packages\\sklearn\\preprocessing\\data.py:334: DataConversionWarning: Data with input dtype int64, float64 were all converted to float64 by MinMaxScaler.\n",
      "  return self.partial_fit(X, y)\n"
     ]
    }
   ],
   "source": [
    "scaler = MinMaxScaler()\n",
    "scaler.fit(df)\n",
    "\n",
    "exo = pd.DataFrame(scaler.transform(df))"
   ]
  },
  {
   "cell_type": "code",
   "execution_count": 5,
   "metadata": {},
   "outputs": [],
   "source": [
    "train_time = np.array(time.Electricity_Log[0:292])\n",
    "test_time = np.array(time.Electricity_Log[292:])\n",
    "train_exo = np.array(exo[0:292])\n",
    "test_exo = np.array(exo[292:])"
   ]
  },
  {
   "cell_type": "code",
   "execution_count": 6,
   "metadata": {},
   "outputs": [
    {
     "data": {
      "text/plain": [
       "(292,)"
      ]
     },
     "execution_count": 6,
     "metadata": {},
     "output_type": "execute_result"
    }
   ],
   "source": [
    "train_time.shape"
   ]
  },
  {
   "cell_type": "code",
   "execution_count": 7,
   "metadata": {},
   "outputs": [
    {
     "data": {
      "text/plain": [
       "(292, 29)"
      ]
     },
     "execution_count": 7,
     "metadata": {},
     "output_type": "execute_result"
    }
   ],
   "source": [
    "train_exo.shape"
   ]
  },
  {
   "cell_type": "code",
   "execution_count": 72,
   "metadata": {},
   "outputs": [
    {
     "name": "stderr",
     "output_type": "stream",
     "text": [
      "C:\\Users\\sajor\\Anaconda3\\lib\\site-packages\\statsmodels\\base\\model.py:512: ConvergenceWarning: Maximum Likelihood optimization failed to converge. Check mle_retvals\n",
      "  \"Check mle_retvals\", ConvergenceWarning)\n"
     ]
    }
   ],
   "source": [
    "model = SARIMAX(train_time, exog=train_exo, order=(2, 1, 2), seasonal_order=(1, 0, 0, 4), trend = 'ct')\n",
    "model_fit = model.fit(disp=True)\n",
    "fc = model_fit.forecast(73, alpha=0.05, exog = pd.DataFrame(test_exo) )"
   ]
  },
  {
   "cell_type": "code",
   "execution_count": 9,
   "metadata": {},
   "outputs": [],
   "source": [
    "#test_exo.shape"
   ]
  },
  {
   "cell_type": "code",
   "execution_count": 10,
   "metadata": {},
   "outputs": [],
   "source": [
    "#fc"
   ]
  },
  {
   "cell_type": "code",
   "execution_count": 11,
   "metadata": {},
   "outputs": [],
   "source": [
    "#test_time"
   ]
  },
  {
   "cell_type": "code",
   "execution_count": 12,
   "metadata": {},
   "outputs": [],
   "source": [
    "#np.exp(fc)"
   ]
  },
  {
   "cell_type": "code",
   "execution_count": 13,
   "metadata": {},
   "outputs": [],
   "source": [
    "#np.exp(test_time)"
   ]
  },
  {
   "cell_type": "code",
   "execution_count": 73,
   "metadata": {
    "scrolled": true
   },
   "outputs": [
    {
     "data": {
      "image/png": "[encoded data removed]",
      "text/plain": [
       "<Figure size 1200x500 with 1 Axes>"
      ]
     },
     "metadata": {
      "needs_background": "light"
     },
     "output_type": "display_data"
    }
   ],
   "source": [
    "actual = pd.DataFrame(np.exp(test_time))\n",
    "actual.index = time[292:].index\n",
    "forecast = pd.DataFrame(np.exp(fc))\n",
    "forecast.index = actual.index\n",
    "\n",
    "# Plot\n",
    "plt.figure(figsize=(12,5), dpi=100)\n",
    "plt.plot(np.exp(train_time), label='training')\n",
    "plt.plot(actual, label='actual')\n",
    "plt.plot(forecast, label='forecast', alpha = 0.7)\n",
    "#plt.plot(fc_series, label='forecast')\n",
    "#plt.fill_between(lower_series.index, lower_series, upper_series, \n",
    "                 #color='k', alpha=.15)\n",
    "plt.title('Forecast vs Actuals')\n",
    "plt.legend(loc='upper left', fontsize=8)\n",
    "plt.show()"
   ]
  },
  {
   "cell_type": "code",
   "execution_count": 74,
   "metadata": {},
   "outputs": [
    {
     "name": "stdout",
     "output_type": "stream",
     "text": [
      "61.540436150396495\n",
      "0.10406330534827546\n"
     ]
    }
   ],
   "source": [
    "from sklearn.metrics import mean_squared_error\n",
    "mse = mean_squared_error(actual.values, forecast.values)\n",
    "rmse = np.sqrt(mse)\n",
    "print(rmse)\n",
    "\n",
    "from sklearn.metrics import explained_variance_score\n",
    "r2 = explained_variance_score(actual.values, forecast.values)\n",
    "print(r2)"
   ]
  },
  {
   "cell_type": "code",
   "execution_count": null,
   "metadata": {},
   "outputs": [],
   "source": []
  }
 ],
 "metadata": {
  "kernelspec": {
   "display_name": "Python 3",
   "language": "python",
   "name": "python3"
  },
  "language_info": {
   "codemirror_mode": {
    "name": "ipython",
    "version": 3
   },
   "file_extension": ".py",
   "mimetype": "text/x-python",
   "name": "python",
   "nbconvert_exporter": "python",
   "pygments_lexer": "ipython3",
   "version": "3.7.2"
  }
 },
 "nbformat": 4,
 "nbformat_minor": 2
}
