{
 "cells": [
  {
   "cell_type": "code",
   "execution_count": 1,
   "metadata": {},
   "outputs": [],
   "source": [
    "%matplotlib inline\n",
    "import numpy as np\n",
    "import pandas as pd\n",
    "from scipy.stats import norm\n",
    "import statsmodels.api as sm\n",
    "import matplotlib.pyplot as plt\n",
    "from matplotlib.pyplot import figure\n",
    "from datetime import datetime\n",
    "import requests\n",
    "from io import BytesIO\n",
    "from statsmodels.graphics.tsaplots import plot_acf, plot_pacf\n",
    "from statsmodels.tsa.statespace.sarimax import SARIMAX\n",
    "from sklearn.preprocessing import MinMaxScaler\n",
    "\n",
    "df = pd.read_csv('consump_r_daily_agg.csv')\n",
    "df['Date_Time'] = pd.to_datetime(df['Date_Time'])\n",
    "df.Electricity_KW_AVG = np.log(df.Electricity_KW_AVG)\n",
    "df.rename(columns={'Electricity_KW_AVG':'Electricity_Log'}, inplace=True)"
   ]
  },
  {
   "cell_type": "code",
   "execution_count": 2,
   "metadata": {},
   "outputs": [
    {
     "data": {
      "text/html": [
       "<div>\n",
       "<style scoped>\n",
       "    .dataframe tbody tr th:only-of-type {\n",
       "        vertical-align: middle;\n",
       "    }\n",
       "\n",
       "    .dataframe tbody tr th {\n",
       "        vertical-align: top;\n",
       "    }\n",
       "\n",
       "    .dataframe thead th {\n",
       "        text-align: right;\n",
       "    }\n",
       "</style>\n",
       "<table border=\"1\" class=\"dataframe\">\n",
       "  <thead>\n",
       "    <tr style=\"text-align: right;\">\n",
       "      <th></th>\n",
       "      <th>Date_Time</th>\n",
       "      <th>Weekend</th>\n",
       "      <th>Holiday</th>\n",
       "      <th>School_Day</th>\n",
       "      <th>Electricity_Log</th>\n",
       "      <th>Solar_Elevation_AVG</th>\n",
       "      <th>Cloud_Cover_Fraction_AVG</th>\n",
       "      <th>Dew_Point_AVG</th>\n",
       "      <th>Humidity_Fraction_AVG</th>\n",
       "      <th>Precipitable_Water_AVG</th>\n",
       "      <th>...</th>\n",
       "      <th>Day_of_week_2</th>\n",
       "      <th>Day_of_week_3</th>\n",
       "      <th>Day_of_week_4</th>\n",
       "      <th>Day_of_week_5</th>\n",
       "      <th>Day_of_week_6</th>\n",
       "      <th>Day_of_week_7</th>\n",
       "      <th>Season_Autumn</th>\n",
       "      <th>Season_Spring</th>\n",
       "      <th>Season_Summer</th>\n",
       "      <th>Season_Winter</th>\n",
       "    </tr>\n",
       "  </thead>\n",
       "  <tbody>\n",
       "    <tr>\n",
       "      <th>0</th>\n",
       "      <td>1991-01-01</td>\n",
       "      <td>1</td>\n",
       "      <td>1</td>\n",
       "      <td>0</td>\n",
       "      <td>11.057840</td>\n",
       "      <td>-18.476732</td>\n",
       "      <td>0.950000</td>\n",
       "      <td>-12.883333</td>\n",
       "      <td>0.763750</td>\n",
       "      <td>5.208333</td>\n",
       "      <td>...</td>\n",
       "      <td>0</td>\n",
       "      <td>0</td>\n",
       "      <td>0</td>\n",
       "      <td>0</td>\n",
       "      <td>0</td>\n",
       "      <td>0</td>\n",
       "      <td>0</td>\n",
       "      <td>0</td>\n",
       "      <td>0</td>\n",
       "      <td>1</td>\n",
       "    </tr>\n",
       "    <tr>\n",
       "      <th>1</th>\n",
       "      <td>1991-01-02</td>\n",
       "      <td>0</td>\n",
       "      <td>0</td>\n",
       "      <td>0</td>\n",
       "      <td>11.074369</td>\n",
       "      <td>-18.411217</td>\n",
       "      <td>0.458333</td>\n",
       "      <td>-14.670833</td>\n",
       "      <td>0.679583</td>\n",
       "      <td>4.833333</td>\n",
       "      <td>...</td>\n",
       "      <td>1</td>\n",
       "      <td>0</td>\n",
       "      <td>0</td>\n",
       "      <td>0</td>\n",
       "      <td>0</td>\n",
       "      <td>0</td>\n",
       "      <td>0</td>\n",
       "      <td>0</td>\n",
       "      <td>0</td>\n",
       "      <td>1</td>\n",
       "    </tr>\n",
       "  </tbody>\n",
       "</table>\n",
       "<p>2 rows × 64 columns</p>\n",
       "</div>"
      ],
      "text/plain": [
       "   Date_Time  Weekend  Holiday  School_Day  Electricity_Log  \\\n",
       "0 1991-01-01        1        1           0        11.057840   \n",
       "1 1991-01-02        0        0           0        11.074369   \n",
       "\n",
       "   Solar_Elevation_AVG  Cloud_Cover_Fraction_AVG  Dew_Point_AVG  \\\n",
       "0           -18.476732                  0.950000     -12.883333   \n",
       "1           -18.411217                  0.458333     -14.670833   \n",
       "\n",
       "   Humidity_Fraction_AVG  Precipitable_Water_AVG  ...  Day_of_week_2  \\\n",
       "0               0.763750                5.208333  ...              0   \n",
       "1               0.679583                4.833333  ...              1   \n",
       "\n",
       "   Day_of_week_3  Day_of_week_4  Day_of_week_5  Day_of_week_6  Day_of_week_7  \\\n",
       "0              0              0              0              0              0   \n",
       "1              0              0              0              0              0   \n",
       "\n",
       "   Season_Autumn  Season_Spring  Season_Summer  Season_Winter  \n",
       "0              0              0              0              1  \n",
       "1              0              0              0              1  \n",
       "\n",
       "[2 rows x 64 columns]"
      ]
     },
     "execution_count": 2,
     "metadata": {},
     "output_type": "execute_result"
    }
   ],
   "source": [
    "df.head(2)"
   ]
  },
  {
   "cell_type": "code",
   "execution_count": 3,
   "metadata": {},
   "outputs": [
    {
     "data": {
      "text/html": [
       "<div>\n",
       "<style scoped>\n",
       "    .dataframe tbody tr th:only-of-type {\n",
       "        vertical-align: middle;\n",
       "    }\n",
       "\n",
       "    .dataframe tbody tr th {\n",
       "        vertical-align: top;\n",
       "    }\n",
       "\n",
       "    .dataframe thead th {\n",
       "        text-align: right;\n",
       "    }\n",
       "</style>\n",
       "<table border=\"1\" class=\"dataframe\">\n",
       "  <thead>\n",
       "    <tr style=\"text-align: right;\">\n",
       "      <th></th>\n",
       "      <th>Weekend</th>\n",
       "      <th>Holiday</th>\n",
       "      <th>School_Day</th>\n",
       "      <th>Solar_Elevation_AVG</th>\n",
       "      <th>Cloud_Cover_Fraction_AVG</th>\n",
       "      <th>Dew_Point_AVG</th>\n",
       "      <th>Humidity_Fraction_AVG</th>\n",
       "      <th>Precipitable_Water_AVG</th>\n",
       "      <th>Temperature_AVG</th>\n",
       "      <th>Visibility_AVG</th>\n",
       "      <th>...</th>\n",
       "      <th>Day_of_week_2</th>\n",
       "      <th>Day_of_week_3</th>\n",
       "      <th>Day_of_week_4</th>\n",
       "      <th>Day_of_week_5</th>\n",
       "      <th>Day_of_week_6</th>\n",
       "      <th>Day_of_week_7</th>\n",
       "      <th>Season_Autumn</th>\n",
       "      <th>Season_Spring</th>\n",
       "      <th>Season_Summer</th>\n",
       "      <th>Season_Winter</th>\n",
       "    </tr>\n",
       "  </thead>\n",
       "  <tbody>\n",
       "    <tr>\n",
       "      <th>0</th>\n",
       "      <td>1</td>\n",
       "      <td>1</td>\n",
       "      <td>0</td>\n",
       "      <td>-18.476732</td>\n",
       "      <td>0.950000</td>\n",
       "      <td>-12.883333</td>\n",
       "      <td>0.763750</td>\n",
       "      <td>5.208333</td>\n",
       "      <td>-9.441667</td>\n",
       "      <td>8.470833</td>\n",
       "      <td>...</td>\n",
       "      <td>0</td>\n",
       "      <td>0</td>\n",
       "      <td>0</td>\n",
       "      <td>0</td>\n",
       "      <td>0</td>\n",
       "      <td>0</td>\n",
       "      <td>0</td>\n",
       "      <td>0</td>\n",
       "      <td>0</td>\n",
       "      <td>1</td>\n",
       "    </tr>\n",
       "    <tr>\n",
       "      <th>1</th>\n",
       "      <td>0</td>\n",
       "      <td>0</td>\n",
       "      <td>0</td>\n",
       "      <td>-18.411217</td>\n",
       "      <td>0.458333</td>\n",
       "      <td>-14.670833</td>\n",
       "      <td>0.679583</td>\n",
       "      <td>4.833333</td>\n",
       "      <td>-9.570833</td>\n",
       "      <td>16.100000</td>\n",
       "      <td>...</td>\n",
       "      <td>1</td>\n",
       "      <td>0</td>\n",
       "      <td>0</td>\n",
       "      <td>0</td>\n",
       "      <td>0</td>\n",
       "      <td>0</td>\n",
       "      <td>0</td>\n",
       "      <td>0</td>\n",
       "      <td>0</td>\n",
       "      <td>1</td>\n",
       "    </tr>\n",
       "    <tr>\n",
       "      <th>2</th>\n",
       "      <td>0</td>\n",
       "      <td>0</td>\n",
       "      <td>0</td>\n",
       "      <td>-18.339779</td>\n",
       "      <td>0.583333</td>\n",
       "      <td>-11.320833</td>\n",
       "      <td>0.610417</td>\n",
       "      <td>5.583333</td>\n",
       "      <td>-4.670833</td>\n",
       "      <td>16.100000</td>\n",
       "      <td>...</td>\n",
       "      <td>0</td>\n",
       "      <td>1</td>\n",
       "      <td>0</td>\n",
       "      <td>0</td>\n",
       "      <td>0</td>\n",
       "      <td>0</td>\n",
       "      <td>0</td>\n",
       "      <td>0</td>\n",
       "      <td>0</td>\n",
       "      <td>1</td>\n",
       "    </tr>\n",
       "    <tr>\n",
       "      <th>3</th>\n",
       "      <td>0</td>\n",
       "      <td>0</td>\n",
       "      <td>0</td>\n",
       "      <td>-18.262442</td>\n",
       "      <td>0.862500</td>\n",
       "      <td>-13.825000</td>\n",
       "      <td>0.746250</td>\n",
       "      <td>5.083333</td>\n",
       "      <td>-10.016667</td>\n",
       "      <td>8.725000</td>\n",
       "      <td>...</td>\n",
       "      <td>0</td>\n",
       "      <td>0</td>\n",
       "      <td>1</td>\n",
       "      <td>0</td>\n",
       "      <td>0</td>\n",
       "      <td>0</td>\n",
       "      <td>0</td>\n",
       "      <td>0</td>\n",
       "      <td>0</td>\n",
       "      <td>1</td>\n",
       "    </tr>\n",
       "    <tr>\n",
       "      <th>4</th>\n",
       "      <td>0</td>\n",
       "      <td>0</td>\n",
       "      <td>0</td>\n",
       "      <td>-18.179237</td>\n",
       "      <td>0.554167</td>\n",
       "      <td>-20.070833</td>\n",
       "      <td>0.757083</td>\n",
       "      <td>3.833333</td>\n",
       "      <td>-16.716667</td>\n",
       "      <td>10.675000</td>\n",
       "      <td>...</td>\n",
       "      <td>0</td>\n",
       "      <td>0</td>\n",
       "      <td>0</td>\n",
       "      <td>1</td>\n",
       "      <td>0</td>\n",
       "      <td>0</td>\n",
       "      <td>0</td>\n",
       "      <td>0</td>\n",
       "      <td>0</td>\n",
       "      <td>1</td>\n",
       "    </tr>\n",
       "  </tbody>\n",
       "</table>\n",
       "<p>5 rows × 62 columns</p>\n",
       "</div>"
      ],
      "text/plain": [
       "   Weekend  Holiday  School_Day  Solar_Elevation_AVG  \\\n",
       "0        1        1           0           -18.476732   \n",
       "1        0        0           0           -18.411217   \n",
       "2        0        0           0           -18.339779   \n",
       "3        0        0           0           -18.262442   \n",
       "4        0        0           0           -18.179237   \n",
       "\n",
       "   Cloud_Cover_Fraction_AVG  Dew_Point_AVG  Humidity_Fraction_AVG  \\\n",
       "0                  0.950000     -12.883333               0.763750   \n",
       "1                  0.458333     -14.670833               0.679583   \n",
       "2                  0.583333     -11.320833               0.610417   \n",
       "3                  0.862500     -13.825000               0.746250   \n",
       "4                  0.554167     -20.070833               0.757083   \n",
       "\n",
       "   Precipitable_Water_AVG  Temperature_AVG  Visibility_AVG  ...  \\\n",
       "0                5.208333        -9.441667        8.470833  ...   \n",
       "1                4.833333        -9.570833       16.100000  ...   \n",
       "2                5.583333        -4.670833       16.100000  ...   \n",
       "3                5.083333       -10.016667        8.725000  ...   \n",
       "4                3.833333       -16.716667       10.675000  ...   \n",
       "\n",
       "   Day_of_week_2  Day_of_week_3  Day_of_week_4  Day_of_week_5  Day_of_week_6  \\\n",
       "0              0              0              0              0              0   \n",
       "1              1              0              0              0              0   \n",
       "2              0              1              0              0              0   \n",
       "3              0              0              1              0              0   \n",
       "4              0              0              0              1              0   \n",
       "\n",
       "   Day_of_week_7  Season_Autumn  Season_Spring  Season_Summer  Season_Winter  \n",
       "0              0              0              0              0              1  \n",
       "1              0              0              0              0              1  \n",
       "2              0              0              0              0              1  \n",
       "3              0              0              0              0              1  \n",
       "4              0              0              0              0              1  \n",
       "\n",
       "[5 rows x 62 columns]"
      ]
     },
     "execution_count": 3,
     "metadata": {},
     "output_type": "execute_result"
    }
   ],
   "source": [
    "time = df[['Date_Time', 'Electricity_Log']]\n",
    "del df['Date_Time']\n",
    "del df['Electricity_Log']\n",
    "df.head()"
   ]
  },
  {
   "cell_type": "code",
   "execution_count": 4,
   "metadata": {},
   "outputs": [
    {
     "name": "stderr",
     "output_type": "stream",
     "text": [
      "C:\\Users\\sajor\\Anaconda3\\lib\\site-packages\\sklearn\\preprocessing\\data.py:334: DataConversionWarning: Data with input dtype int64, float64 were all converted to float64 by MinMaxScaler.\n",
      "  return self.partial_fit(X, y)\n"
     ]
    }
   ],
   "source": [
    "scaler = MinMaxScaler()\n",
    "scaler.fit(df)\n",
    "\n",
    "exo = pd.DataFrame(scaler.transform(df))"
   ]
  },
  {
   "cell_type": "code",
   "execution_count": 5,
   "metadata": {},
   "outputs": [],
   "source": [
    "train_time = np.array(time.Electricity_Log[0:292])\n",
    "test_time = np.array(time.Electricity_Log[292:])\n",
    "train_exo = np.array(exo[0:292])\n",
    "test_exo = np.array(exo[292:])"
   ]
  },
  {
   "cell_type": "code",
   "execution_count": 6,
   "metadata": {},
   "outputs": [
    {
     "data": {
      "text/plain": [
       "(292,)"
      ]
     },
     "execution_count": 6,
     "metadata": {},
     "output_type": "execute_result"
    }
   ],
   "source": [
    "train_time.shape"
   ]
  },
  {
   "cell_type": "code",
   "execution_count": 11,
   "metadata": {},
   "outputs": [],
   "source": [
    "train_exo.shape\n",
    "from sklearn.metrics import mean_squared_error, explained_variance_score"
   ]
  },
  {
   "cell_type": "code",
   "execution_count": 15,
   "metadata": {},
   "outputs": [
    {
     "name": "stderr",
     "output_type": "stream",
     "text": [
      "C:\\Users\\sajor\\Anaconda3\\lib\\site-packages\\statsmodels\\base\\model.py:512: ConvergenceWarning: Maximum Likelihood optimization failed to converge. Check mle_retvals\n",
      "  \"Check mle_retvals\", ConvergenceWarning)\n"
     ]
    },
    {
     "name": "stdout",
     "output_type": "stream",
     "text": [
      "1\n",
      "7412.896449899534\n",
      "-17.531394239784202\n"
     ]
    },
    {
     "name": "stderr",
     "output_type": "stream",
     "text": [
      "C:\\Users\\sajor\\Anaconda3\\lib\\site-packages\\statsmodels\\base\\model.py:512: ConvergenceWarning: Maximum Likelihood optimization failed to converge. Check mle_retvals\n",
      "  \"Check mle_retvals\", ConvergenceWarning)\n"
     ]
    },
    {
     "name": "stdout",
     "output_type": "stream",
     "text": [
      "2\n",
      "7639.033430917428\n",
      "-18.583836371240512\n"
     ]
    },
    {
     "name": "stderr",
     "output_type": "stream",
     "text": [
      "C:\\Users\\sajor\\Anaconda3\\lib\\site-packages\\statsmodels\\base\\model.py:512: ConvergenceWarning: Maximum Likelihood optimization failed to converge. Check mle_retvals\n",
      "  \"Check mle_retvals\", ConvergenceWarning)\n"
     ]
    },
    {
     "name": "stdout",
     "output_type": "stream",
     "text": [
      "3\n",
      "7454.431414123396\n",
      "-17.635643671686864\n"
     ]
    },
    {
     "name": "stderr",
     "output_type": "stream",
     "text": [
      "C:\\Users\\sajor\\Anaconda3\\lib\\site-packages\\statsmodels\\tsa\\statespace\\sarimax.py:949: UserWarning: Non-stationary starting autoregressive parameters found. Using zeros as starting parameters.\n",
      "  warn('Non-stationary starting autoregressive parameters'\n",
      "C:\\Users\\sajor\\Anaconda3\\lib\\site-packages\\statsmodels\\tsa\\statespace\\sarimax.py:961: UserWarning: Non-invertible starting MA parameters found. Using zeros as starting parameters.\n",
      "  warn('Non-invertible starting MA parameters found.'\n",
      "C:\\Users\\sajor\\Anaconda3\\lib\\site-packages\\statsmodels\\base\\model.py:512: ConvergenceWarning: Maximum Likelihood optimization failed to converge. Check mle_retvals\n",
      "  \"Check mle_retvals\", ConvergenceWarning)\n"
     ]
    },
    {
     "name": "stdout",
     "output_type": "stream",
     "text": [
      "4\n",
      "7641.698354839602\n",
      "-18.530199265513986\n"
     ]
    },
    {
     "name": "stderr",
     "output_type": "stream",
     "text": [
      "C:\\Users\\sajor\\Anaconda3\\lib\\site-packages\\statsmodels\\tsa\\statespace\\sarimax.py:961: UserWarning: Non-invertible starting MA parameters found. Using zeros as starting parameters.\n",
      "  warn('Non-invertible starting MA parameters found.'\n"
     ]
    },
    {
     "name": "stdout",
     "output_type": "stream",
     "text": [
      "5\n",
      "53564.44260674758\n",
      "-95.53105018605463\n"
     ]
    },
    {
     "name": "stderr",
     "output_type": "stream",
     "text": [
      "C:\\Users\\sajor\\Anaconda3\\lib\\site-packages\\statsmodels\\base\\model.py:512: ConvergenceWarning: Maximum Likelihood optimization failed to converge. Check mle_retvals\n",
      "  \"Check mle_retvals\", ConvergenceWarning)\n"
     ]
    },
    {
     "name": "stdout",
     "output_type": "stream",
     "text": [
      "6\n",
      "7463.517495909961\n",
      "-17.708653444697447\n",
      "7\n",
      "10890.151669519231\n",
      "-26.819797158315467\n"
     ]
    },
    {
     "name": "stderr",
     "output_type": "stream",
     "text": [
      "C:\\Users\\sajor\\Anaconda3\\lib\\site-packages\\statsmodels\\base\\model.py:512: ConvergenceWarning: Maximum Likelihood optimization failed to converge. Check mle_retvals\n",
      "  \"Check mle_retvals\", ConvergenceWarning)\n"
     ]
    },
    {
     "name": "stdout",
     "output_type": "stream",
     "text": [
      "8\n",
      "8976.621863060944\n",
      "-22.374900910971178\n"
     ]
    },
    {
     "name": "stderr",
     "output_type": "stream",
     "text": [
      "C:\\Users\\sajor\\Anaconda3\\lib\\site-packages\\statsmodels\\base\\model.py:512: ConvergenceWarning: Maximum Likelihood optimization failed to converge. Check mle_retvals\n",
      "  \"Check mle_retvals\", ConvergenceWarning)\n"
     ]
    },
    {
     "name": "stdout",
     "output_type": "stream",
     "text": [
      "9\n",
      "7455.523283617435\n",
      "-17.681248749898113\n"
     ]
    },
    {
     "name": "stderr",
     "output_type": "stream",
     "text": [
      "C:\\Users\\sajor\\Anaconda3\\lib\\site-packages\\statsmodels\\tsa\\statespace\\sarimax.py:949: UserWarning: Non-stationary starting autoregressive parameters found. Using zeros as starting parameters.\n",
      "  warn('Non-stationary starting autoregressive parameters'\n",
      "C:\\Users\\sajor\\Anaconda3\\lib\\site-packages\\statsmodels\\tsa\\statespace\\sarimax.py:961: UserWarning: Non-invertible starting MA parameters found. Using zeros as starting parameters.\n",
      "  warn('Non-invertible starting MA parameters found.'\n"
     ]
    },
    {
     "name": "stdout",
     "output_type": "stream",
     "text": [
      "10\n",
      "7731.543376175832\n",
      "-18.814826714797025\n"
     ]
    }
   ],
   "source": [
    "model = SARIMAX(train_time, exog=train_exo, order=(1, 1, 0), seasonal_order=(2, 0, 1, 7), trend = 'ct')\n",
    "model_fit = model.fit(disp=True)\n",
    "fc = model_fit.forecast(73, alpha=0.05, exog = pd.DataFrame(test_exo) )\n",
    "actual = pd.DataFrame(np.exp(test_time))\n",
    "actual.index = time[292:].index\n",
    "forecast = pd.DataFrame(np.exp(fc))\n",
    "forecast.index = actual.index\n",
    "mse = mean_squared_error(actual.values, forecast.values)\n",
    "rmse = np.sqrt(mse)\n",
    "print('1')\n",
    "print(rmse)\n",
    "r2 = explained_variance_score(actual.values, forecast.values)\n",
    "print(r2)\n",
    "\n",
    "model = SARIMAX(train_time, exog=train_exo, order=(2, 1, 0), seasonal_order=(2, 0, 1, 7), trend = 'ct')\n",
    "model_fit = model.fit(disp=True)\n",
    "fc = model_fit.forecast(73, alpha=0.05, exog = pd.DataFrame(test_exo) )\n",
    "actual = pd.DataFrame(np.exp(test_time))\n",
    "actual.index = time[292:].index\n",
    "forecast = pd.DataFrame(np.exp(fc))\n",
    "forecast.index = actual.index\n",
    "mse = mean_squared_error(actual.values, forecast.values)\n",
    "rmse = np.sqrt(mse)\n",
    "print('2')\n",
    "print(rmse)\n",
    "r2 = explained_variance_score(actual.values, forecast.values)\n",
    "print(r2)\n",
    "\n",
    "model = SARIMAX(train_time, exog=train_exo, order=(3, 1, 0), seasonal_order=(2, 0, 1, 7), trend = 'ct')\n",
    "model_fit = model.fit(disp=True)\n",
    "fc = model_fit.forecast(73, alpha=0.05, exog = pd.DataFrame(test_exo) )\n",
    "actual = pd.DataFrame(np.exp(test_time))\n",
    "actual.index = time[292:].index\n",
    "forecast = pd.DataFrame(np.exp(fc))\n",
    "forecast.index = actual.index\n",
    "mse = mean_squared_error(actual.values, forecast.values)\n",
    "rmse = np.sqrt(mse)\n",
    "print('3')\n",
    "print(rmse)\n",
    "r2 = explained_variance_score(actual.values, forecast.values)\n",
    "print(r2)\n",
    "\n",
    "model = SARIMAX(train_time, exog=train_exo, order=(1, 1, 1), seasonal_order=(2, 0, 1, 7), trend = 'ct')\n",
    "model_fit = model.fit(disp=True)\n",
    "fc = model_fit.forecast(73, alpha=0.05, exog = pd.DataFrame(test_exo) )\n",
    "actual = pd.DataFrame(np.exp(test_time))\n",
    "actual.index = time[292:].index\n",
    "forecast = pd.DataFrame(np.exp(fc))\n",
    "forecast.index = actual.index\n",
    "mse = mean_squared_error(actual.values, forecast.values)\n",
    "rmse = np.sqrt(mse)\n",
    "print('4')\n",
    "print(rmse)\n",
    "r2 = explained_variance_score(actual.values, forecast.values)\n",
    "print(r2)\n",
    "\n",
    "model = SARIMAX(train_time, exog=train_exo, order=(2, 2, 1), seasonal_order=(2, 0, 1, 7), trend = 'ct')\n",
    "model_fit = model.fit(disp=True)\n",
    "fc = model_fit.forecast(73, alpha=0.05, exog = pd.DataFrame(test_exo) )\n",
    "actual = pd.DataFrame(np.exp(test_time))\n",
    "actual.index = time[292:].index\n",
    "forecast = pd.DataFrame(np.exp(fc))\n",
    "forecast.index = actual.index\n",
    "mse = mean_squared_error(actual.values, forecast.values)\n",
    "rmse = np.sqrt(mse)\n",
    "print('5')\n",
    "print(rmse)\n",
    "r2 = explained_variance_score(actual.values, forecast.values)\n",
    "print(r2)\n",
    "\n",
    "model = SARIMAX(train_time, exog=train_exo, order=(3, 1, 1), seasonal_order=(2, 0, 1, 7), trend = 'ct')\n",
    "model_fit = model.fit(disp=True)\n",
    "fc = model_fit.forecast(73, alpha=0.05, exog = pd.DataFrame(test_exo) )\n",
    "actual = pd.DataFrame(np.exp(test_time))\n",
    "actual.index = time[292:].index\n",
    "forecast = pd.DataFrame(np.exp(fc))\n",
    "forecast.index = actual.index\n",
    "mse = mean_squared_error(actual.values, forecast.values)\n",
    "rmse = np.sqrt(mse)\n",
    "print('6')\n",
    "print(rmse)\n",
    "r2 = explained_variance_score(actual.values, forecast.values)\n",
    "print(r2)\n",
    "\n",
    "model = SARIMAX(train_time, exog=train_exo, order=(1, 1, 2), seasonal_order=(2, 0, 1, 7), trend = 'ct')\n",
    "model_fit = model.fit(disp=True)\n",
    "fc = model_fit.forecast(73, alpha=0.05, exog = pd.DataFrame(test_exo) )\n",
    "actual = pd.DataFrame(np.exp(test_time))\n",
    "actual.index = time[292:].index\n",
    "forecast = pd.DataFrame(np.exp(fc))\n",
    "forecast.index = actual.index\n",
    "mse = mean_squared_error(actual.values, forecast.values)\n",
    "rmse = np.sqrt(mse)\n",
    "print('7')\n",
    "print(rmse)\n",
    "r2 = explained_variance_score(actual.values, forecast.values)\n",
    "print(r2)\n",
    "\n",
    "model = SARIMAX(train_time, exog=train_exo, order=(2, 1, 2), seasonal_order=(2, 0, 1, 7), trend = 'ct')\n",
    "model_fit = model.fit(disp=True)\n",
    "fc = model_fit.forecast(73, alpha=0.05, exog = pd.DataFrame(test_exo) )\n",
    "actual = pd.DataFrame(np.exp(test_time))\n",
    "actual.index = time[292:].index\n",
    "forecast = pd.DataFrame(np.exp(fc))\n",
    "forecast.index = actual.index\n",
    "mse = mean_squared_error(actual.values, forecast.values)\n",
    "rmse = np.sqrt(mse)\n",
    "print('8')\n",
    "print(rmse)\n",
    "r2 = explained_variance_score(actual.values, forecast.values)\n",
    "print(r2)\n",
    "\n",
    "model = SARIMAX(train_time, exog=train_exo, order=(3, 1, 2), seasonal_order=(2, 0, 1, 7), trend = 'ct')\n",
    "model_fit = model.fit(disp=True)\n",
    "fc = model_fit.forecast(73, alpha=0.05, exog = pd.DataFrame(test_exo) )\n",
    "actual = pd.DataFrame(np.exp(test_time))\n",
    "actual.index = time[292:].index\n",
    "forecast = pd.DataFrame(np.exp(fc))\n",
    "forecast.index = actual.index\n",
    "mse = mean_squared_error(actual.values, forecast.values)\n",
    "rmse = np.sqrt(mse)\n",
    "print('9')\n",
    "print(rmse)\n",
    "r2 = explained_variance_score(actual.values, forecast.values)\n",
    "print(r2)\n",
    "\n",
    "model = SARIMAX(train_time, exog=train_exo, order=(3, 1, 3), seasonal_order=(2, 0, 0, 7), trend = 'ct')\n",
    "model_fit = model.fit(disp=True)\n",
    "fc = model_fit.forecast(73, alpha=0.05, exog = pd.DataFrame(test_exo) )\n",
    "actual = pd.DataFrame(np.exp(test_time))\n",
    "actual.index = time[292:].index\n",
    "forecast = pd.DataFrame(np.exp(fc))\n",
    "forecast.index = actual.index\n",
    "mse = mean_squared_error(actual.values, forecast.values)\n",
    "rmse = np.sqrt(mse)\n",
    "print('10')\n",
    "print(rmse)\n",
    "r2 = explained_variance_score(actual.values, forecast.values)\n",
    "print(r2)"
   ]
  },
  {
   "cell_type": "code",
   "execution_count": null,
   "metadata": {},
   "outputs": [],
   "source": [
    "#test_exo.shape"
   ]
  },
  {
   "cell_type": "code",
   "execution_count": null,
   "metadata": {},
   "outputs": [],
   "source": [
    "#fc"
   ]
  },
  {
   "cell_type": "code",
   "execution_count": null,
   "metadata": {},
   "outputs": [],
   "source": [
    "#test_time"
   ]
  },
  {
   "cell_type": "code",
   "execution_count": null,
   "metadata": {},
   "outputs": [],
   "source": [
    "#np.exp(fc)"
   ]
  },
  {
   "cell_type": "code",
   "execution_count": null,
   "metadata": {},
   "outputs": [],
   "source": [
    "#np.exp(test_time)"
   ]
  },
  {
   "cell_type": "code",
   "execution_count": null,
   "metadata": {
    "scrolled": true
   },
   "outputs": [],
   "source": [
    "actual = pd.DataFrame(np.exp(test_time))\n",
    "actual.index = time[292:].index\n",
    "forecast = pd.DataFrame(np.exp(fc))\n",
    "forecast.index = actual.index\n",
    "\n",
    "# Plot\n",
    "plt.figure(figsize=(12,5), dpi=100)\n",
    "plt.plot(np.exp(train_time), label='training')\n",
    "plt.plot(actual, label='actual')\n",
    "plt.plot(forecast, label='forecast', alpha = 0.7)\n",
    "#plt.plot(fc_series, label='forecast')\n",
    "#plt.fill_between(lower_series.index, lower_series, upper_series, \n",
    "                 #color='k', alpha=.15)\n",
    "plt.title('Forecast vs Actuals')\n",
    "plt.legend(loc='upper left', fontsize=8)\n",
    "plt.show()"
   ]
  },
  {
   "cell_type": "code",
   "execution_count": null,
   "metadata": {},
   "outputs": [],
   "source": [
    "from sklearn.metrics import mean_squared_error\n",
    "mse = mean_squared_error(actual.values, forecast.values)\n",
    "rmse = np.sqrt(mse)\n",
    "print(rmse)\n",
    "\n",
    "from sklearn.metrics import explained_variance_score\n",
    "r2 = explained_variance_score(actual.values, forecast.values)\n",
    "print(r2)"
   ]
  },
  {
   "cell_type": "code",
   "execution_count": null,
   "metadata": {},
   "outputs": [],
   "source": []
  }
 ],
 "metadata": {
  "kernelspec": {
   "display_name": "Python 3",
   "language": "python",
   "name": "python3"
  },
  "language_info": {
   "codemirror_mode": {
    "name": "ipython",
    "version": 3
   },
   "file_extension": ".py",
   "mimetype": "text/x-python",
   "name": "python",
   "nbconvert_exporter": "python",
   "pygments_lexer": "ipython3",
   "version": "3.7.2"
  }
 },
 "nbformat": 4,
 "nbformat_minor": 2
}
