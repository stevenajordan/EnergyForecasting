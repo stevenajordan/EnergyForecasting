{
 "cells": [
  {
   "cell_type": "code",
   "execution_count": 1,
   "metadata": {},
   "outputs": [],
   "source": [
    "from math import sqrt\n",
    "\n",
    "#numpy \n",
    "import numpy as np\n",
    "from numpy import concatenate\n",
    "\n",
    "#pandas\n",
    "import pandas as pd\n",
    "pd.set_option('display.max_rows', 365)\n",
    "pd.set_option('display.max_columns', 365)\n",
    "from pandas import to_datetime\n",
    "from pandas import read_csv\n",
    "from pandas import DataFrame\n",
    "from pandas import concat\n",
    "\n",
    "#matplotlib\n",
    "from matplotlib import pyplot\n",
    "\n",
    "#scipy\n",
    "from scipy import stats\n",
    "\n",
    "#sklearn\n",
    "from sklearn import preprocessing\n",
    "from sklearn.preprocessing import MinMaxScaler\n",
    "from sklearn.preprocessing import StandardScaler\n",
    "from sklearn.metrics import mean_squared_error\n",
    "from sklearn.model_selection import train_test_split\n",
    "from sklearn.feature_selection import SelectFromModel\n",
    "from sklearn.linear_model import Lasso\n",
    "\n",
    "from sklearn.model_selection import train_test_split,ShuffleSplit\n",
    "from sklearn.model_selection import GridSearchCV\n",
    "from sklearn.metrics import accuracy_score,r2_score,mean_squared_error\n",
    "from sklearn.linear_model import LinearRegression\n",
    "from sklearn.ensemble import AdaBoostRegressor, RandomForestRegressor\n",
    "from sklearn.ensemble import GradientBoostingRegressor\n",
    "from sklearn.tree import DecisionTreeRegressor\n",
    "\n"
   ]
  },
  {
   "cell_type": "code",
   "execution_count": 2,
   "metadata": {},
   "outputs": [],
   "source": [
    "food_train = pd.read_csv('food_train.csv', index_col=False)\n",
    "groc_train = pd.read_csv('groc_train.csv', index_col=False)\n",
    "heal_train = pd.read_csv('heal_train.csv', index_col=False)\n",
    "k12_train = pd.read_csv('k12_train.csv', index_col=False)\n",
    "lodg_train = pd.read_csv('lodg_train.csv', index_col=False)\n",
    "off_train = pd.read_csv('off_train.csv', index_col=False)\n",
    "res_train = pd.read_csv('res_train.csv', index_col=False)\n",
    "sar_train = pd.read_csv('sar_train.csv', index_col=False)\n",
    "\n",
    "food_test = pd.read_csv('food_test.csv', index_col=False)\n",
    "groc_test = pd.read_csv('groc_test.csv', index_col=False)\n",
    "heal_test = pd.read_csv('heal_test.csv', index_col=False)\n",
    "k12_test = pd.read_csv('k12_test.csv', index_col=False)\n",
    "lodg_test = pd.read_csv('lodg_test.csv', index_col=False)\n",
    "off_test = pd.read_csv('off_test.csv', index_col=False)\n",
    "res_test = pd.read_csv('res_test.csv', index_col=False)\n",
    "sar_test = pd.read_csv('sar_test.csv', index_col=False)"
   ]
  },
  {
   "cell_type": "code",
   "execution_count": 3,
   "metadata": {},
   "outputs": [],
   "source": [
    "food_x = food_train.drop(columns = ['Electricity_KW_AVG'])\n",
    "groc_x = groc_train.drop(columns = ['Electricity_KW_AVG'])\n",
    "heal_x = heal_train.drop(columns = ['Electricity_KW_AVG'])\n",
    "k12_x = k12_train.drop(columns = ['Electricity_KW_AVG'])\n",
    "lodg_x = lodg_train.drop(columns = ['Electricity_KW_AVG'])\n",
    "off_x = off_train.drop(columns = ['Electricity_KW_AVG'])\n",
    "res_x = res_train.drop(columns = ['Electricity_KW_AVG'])\n",
    "sar_x = sar_train.drop(columns = ['Electricity_KW_AVG'])\n",
    "\n",
    "food_y = food_train['Electricity_KW_AVG']\n",
    "groc_y = groc_train['Electricity_KW_AVG']\n",
    "heal_y = heal_train['Electricity_KW_AVG']\n",
    "k12_y = k12_train['Electricity_KW_AVG']\n",
    "lodg_y = lodg_train['Electricity_KW_AVG']\n",
    "off_y = off_train['Electricity_KW_AVG']\n",
    "res_y = res_train['Electricity_KW_AVG']\n",
    "sar_y = sar_train['Electricity_KW_AVG']"
   ]
  },
  {
   "cell_type": "code",
   "execution_count": 4,
   "metadata": {},
   "outputs": [],
   "source": [
    "food_x_test = food_test.drop(columns = ['Electricity_KW_AVG'])\n",
    "groc_x_test = groc_test.drop(columns = ['Electricity_KW_AVG'])\n",
    "heal_x_test = heal_test.drop(columns = ['Electricity_KW_AVG'])\n",
    "k12_x_test = k12_test.drop(columns = ['Electricity_KW_AVG'])\n",
    "lodg_x_test = lodg_test.drop(columns = ['Electricity_KW_AVG'])\n",
    "off_x_test = off_test.drop(columns = ['Electricity_KW_AVG'])\n",
    "res_x_test = res_test.drop(columns = ['Electricity_KW_AVG'])\n",
    "sar_x_test = sar_test.drop(columns = ['Electricity_KW_AVG'])\n",
    "\n",
    "food_y_test = food_test['Electricity_KW_AVG']\n",
    "groc_y_test = groc_test['Electricity_KW_AVG']\n",
    "heal_y_test = heal_test['Electricity_KW_AVG']\n",
    "k12_y_test = k12_test['Electricity_KW_AVG']\n",
    "lodg_y_test = lodg_test['Electricity_KW_AVG']\n",
    "off_y_test = off_test['Electricity_KW_AVG']\n",
    "res_y_test = res_test['Electricity_KW_AVG']\n",
    "sar_y_test = sar_test['Electricity_KW_AVG']"
   ]
  },
  {
   "cell_type": "code",
   "execution_count": 5,
   "metadata": {},
   "outputs": [],
   "source": [
    "food_rgr = RandomForestRegressor(max_features=0.7, min_samples_leaf=1, min_samples_split=3, n_estimators=410, random_state=3)\n",
    "groc_rgr = RandomForestRegressor(max_features=0.7, min_samples_leaf=1, min_samples_split=3, n_estimators=410, random_state=3)\n",
    "heal_rgr = RandomForestRegressor(max_features=0.7, min_samples_leaf=1, min_samples_split=3, n_estimators=410, random_state=3)\n",
    "k12_rgr = RandomForestRegressor(max_features=0.7, min_samples_leaf=1, min_samples_split=3, n_estimators=410, random_state=3)\n",
    "lodg_rgr = RandomForestRegressor(max_features=0.7, min_samples_leaf=1, min_samples_split=3, n_estimators=410, random_state=3)\n",
    "off_rgr = RandomForestRegressor(max_features=0.7, min_samples_leaf=1, min_samples_split=3, n_estimators=410, random_state=3)\n",
    "res_rgr = RandomForestRegressor(max_features=0.7, min_samples_leaf=1, min_samples_split=3, n_estimators=410, random_state=3)\n",
    "sar_rgr = RandomForestRegressor(max_features=0.7, min_samples_leaf=1, min_samples_split=3, n_estimators=410, random_state=3)\n"
   ]
  },
  {
   "cell_type": "code",
   "execution_count": 6,
   "metadata": {},
   "outputs": [
    {
     "data": {
      "text/plain": [
       "RandomForestRegressor(bootstrap=True, criterion='mse', max_depth=None,\n",
       "           max_features=0.7, max_leaf_nodes=None,\n",
       "           min_impurity_decrease=0.0, min_impurity_split=None,\n",
       "           min_samples_leaf=1, min_samples_split=3,\n",
       "           min_weight_fraction_leaf=0.0, n_estimators=410, n_jobs=None,\n",
       "           oob_score=False, random_state=3, verbose=0, warm_start=False)"
      ]
     },
     "execution_count": 6,
     "metadata": {},
     "output_type": "execute_result"
    }
   ],
   "source": [
    "food_rgr.fit(food_x, food_y)\n",
    "groc_rgr.fit(groc_x, groc_y)\n",
    "heal_rgr.fit(heal_x, heal_y)\n",
    "k12_rgr.fit(k12_x, k12_y)\n",
    "lodg_rgr.fit(lodg_x, lodg_y)\n",
    "off_rgr.fit(off_x, off_y)\n",
    "res_rgr.fit(res_x, res_y)\n",
    "sar_rgr.fit(sar_x, sar_y)"
   ]
  },
  {
   "cell_type": "code",
   "execution_count": 13,
   "metadata": {},
   "outputs": [],
   "source": [
    "preds = food_rgr.predict(food_x_test) + groc_rgr.predict(groc_x_test) + heal_rgr.predict(heal_x_test) + k12_rgr.predict(k12_x_test) +lodg_rgr.predict(lodg_x_test) + off_rgr.predict(off_x_test) + res_rgr.predict(res_x_test) + sar_rgr.predict(sar_x_test) "
   ]
  },
  {
   "cell_type": "code",
   "execution_count": 15,
   "metadata": {},
   "outputs": [
    {
     "data": {
      "text/plain": [
       "array([ 95690.90044404,  82541.17291292, 101069.11484713, 105137.67585409,\n",
       "       108664.39610406, 100053.96631354,  98748.57286157,  79833.60688785,\n",
       "        80810.86987587,  91480.9970384 ,  88101.83074201,  91214.9724556 ,\n",
       "       101527.85075034,  81062.46335135, 113400.79877031, 127215.79063586,\n",
       "       100609.70438379, 112292.79900961, 108764.42521649,  94955.08601734,\n",
       "       109510.12340532, 100364.92110735, 112948.05662805, 117421.8308745 ,\n",
       "       111081.41775408,  87527.16274948,  90112.21680603, 151772.05548779,\n",
       "       108775.13451741, 101290.79379078,  99975.63887805,  96707.75511643,\n",
       "        97951.14271521,  96373.66700222, 124169.54599341, 122876.62627736,\n",
       "        98585.43804302,  85303.8129208 , 122245.54850118,  79035.53543435,\n",
       "        96962.89831712, 124353.61705023,  79767.578577  ,  85269.92055983,\n",
       "        95780.46426656, 103267.39517125,  98653.76170749,  99132.20803688,\n",
       "        90846.36492114, 106527.34544255,  88502.23588951,  85419.78804421,\n",
       "        98209.23683254,  94959.32164222,  93765.05616729, 102887.26256401,\n",
       "       108309.07357391,  80568.17509362,  88152.88028675,  84735.41390144,\n",
       "        97978.5058511 , 105617.28035387,  98969.36134445, 102454.52000232,\n",
       "       130713.31040556, 108740.01717125,  81004.82901281,  99784.341977  ,\n",
       "       118571.48930485,  99225.88950659, 149179.32177757, 103798.08134302,\n",
       "       106739.69584046])"
      ]
     },
     "execution_count": 15,
     "metadata": {},
     "output_type": "execute_result"
    }
   ],
   "source": [
    "preds"
   ]
  },
  {
   "cell_type": "code",
   "execution_count": 18,
   "metadata": {},
   "outputs": [],
   "source": [
    "actuals = np.array(food_y_test) + np.array(groc_y_test) + np.array(heal_y_test) + np.array(k12_y_test) + np.array(lodg_y_test) + np.array(off_y_test) + np.array(res_y_test) + np.array(sar_y_test)"
   ]
  },
  {
   "cell_type": "code",
   "execution_count": 21,
   "metadata": {},
   "outputs": [
    {
     "data": {
      "text/plain": [
       "array([ 95690.90044404,  82541.17291292, 101069.11484713, 105137.67585409,\n",
       "       108664.39610406, 100053.96631354,  98748.57286157,  79833.60688785,\n",
       "        80810.86987587,  91480.9970384 ,  88101.83074201,  91214.9724556 ,\n",
       "       101527.85075034,  81062.46335135, 113400.79877031, 127215.79063586,\n",
       "       100609.70438379, 112292.79900961, 108764.42521649,  94955.08601734,\n",
       "       109510.12340532, 100364.92110735, 112948.05662805, 117421.8308745 ,\n",
       "       111081.41775408,  87527.16274948,  90112.21680603, 151772.05548779,\n",
       "       108775.13451741, 101290.79379078,  99975.63887805,  96707.75511643,\n",
       "        97951.14271521,  96373.66700222, 124169.54599341, 122876.62627736,\n",
       "        98585.43804302,  85303.8129208 , 122245.54850118,  79035.53543435,\n",
       "        96962.89831712, 124353.61705023,  79767.578577  ,  85269.92055983,\n",
       "        95780.46426656, 103267.39517125,  98653.76170749,  99132.20803688,\n",
       "        90846.36492114, 106527.34544255,  88502.23588951,  85419.78804421,\n",
       "        98209.23683254,  94959.32164222,  93765.05616729, 102887.26256401,\n",
       "       108309.07357391,  80568.17509362,  88152.88028675,  84735.41390144,\n",
       "        97978.5058511 , 105617.28035387,  98969.36134445, 102454.52000232,\n",
       "       130713.31040556, 108740.01717125,  81004.82901281,  99784.341977  ,\n",
       "       118571.48930485,  99225.88950659, 149179.32177757, 103798.08134302,\n",
       "       106739.69584046])"
      ]
     },
     "execution_count": 21,
     "metadata": {},
     "output_type": "execute_result"
    }
   ],
   "source": [
    "preds"
   ]
  },
  {
   "cell_type": "code",
   "execution_count": 20,
   "metadata": {},
   "outputs": [
    {
     "data": {
      "text/plain": [
       "(73,)"
      ]
     },
     "execution_count": 20,
     "metadata": {},
     "output_type": "execute_result"
    }
   ],
   "source": [
    "preds.shape"
   ]
  },
  {
   "cell_type": "code",
   "execution_count": 22,
   "metadata": {},
   "outputs": [
    {
     "name": "stdout",
     "output_type": "stream",
     "text": [
      "2963.479381189239\n",
      "0.964413606237981\n"
     ]
    }
   ],
   "source": [
    "from sklearn.metrics import mean_squared_error\n",
    "mse = mean_squared_error(actuals, preds)\n",
    "rmse = np.sqrt(mse)\n",
    "print(rmse)\n",
    "\n",
    "from sklearn.metrics import explained_variance_score\n",
    "r2 = explained_variance_score(actuals, preds)\n",
    "print(r2)"
   ]
  },
  {
   "cell_type": "code",
   "execution_count": 23,
   "metadata": {},
   "outputs": [
    {
     "data": {
      "text/plain": [
       "array([ 95690.90044404,  82541.17291292, 101069.11484713, 105137.67585409,\n",
       "       108664.39610406, 100053.96631354,  98748.57286157,  79833.60688785,\n",
       "        80810.86987587,  91480.9970384 ,  88101.83074201,  91214.9724556 ,\n",
       "       101527.85075034,  81062.46335135, 113400.79877031, 127215.79063586,\n",
       "       100609.70438379, 112292.79900961, 108764.42521649,  94955.08601734,\n",
       "       109510.12340532, 100364.92110735, 112948.05662805, 117421.8308745 ,\n",
       "       111081.41775408,  87527.16274948,  90112.21680603, 151772.05548779,\n",
       "       108775.13451741, 101290.79379078,  99975.63887805,  96707.75511643,\n",
       "        97951.14271521,  96373.66700222, 124169.54599341, 122876.62627736,\n",
       "        98585.43804302,  85303.8129208 , 122245.54850118,  79035.53543435,\n",
       "        96962.89831712, 124353.61705023,  79767.578577  ,  85269.92055983,\n",
       "        95780.46426656, 103267.39517125,  98653.76170749,  99132.20803688,\n",
       "        90846.36492114, 106527.34544255,  88502.23588951,  85419.78804421,\n",
       "        98209.23683254,  94959.32164222,  93765.05616729, 102887.26256401,\n",
       "       108309.07357391,  80568.17509362,  88152.88028675,  84735.41390144,\n",
       "        97978.5058511 , 105617.28035387,  98969.36134445, 102454.52000232,\n",
       "       130713.31040556, 108740.01717125,  81004.82901281,  99784.341977  ,\n",
       "       118571.48930485,  99225.88950659, 149179.32177757, 103798.08134302,\n",
       "       106739.69584046])"
      ]
     },
     "execution_count": 23,
     "metadata": {},
     "output_type": "execute_result"
    }
   ],
   "source": [
    "preds\n"
   ]
  },
  {
   "cell_type": "code",
   "execution_count": null,
   "metadata": {},
   "outputs": [],
   "source": []
  }
 ],
 "metadata": {
  "kernelspec": {
   "display_name": "Python 3",
   "language": "python",
   "name": "python3"
  },
  "language_info": {
   "codemirror_mode": {
    "name": "ipython",
    "version": 3
   },
   "file_extension": ".py",
   "mimetype": "text/x-python",
   "name": "python",
   "nbconvert_exporter": "python",
   "pygments_lexer": "ipython3",
   "version": "3.7.2"
  }
 },
 "nbformat": 4,
 "nbformat_minor": 2
}
